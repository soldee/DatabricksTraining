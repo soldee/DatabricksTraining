{
 "cells": [
  {
   "cell_type": "code",
   "execution_count": 7,
   "id": "ebac84c0-0296-439f-b6dd-49b41d78eaad",
   "metadata": {},
   "outputs": [
    {
     "data": {
      "text/html": [
       "<h1>Hello, world!</h1>"
      ],
      "text/plain": [
       "<IPython.core.display.HTML object>"
      ]
     },
     "metadata": {},
     "output_type": "display_data"
    }
   ],
   "source": [
    "# Displaying HTML\n",
    "from IPython.display import display, HTML\n",
    "display(HTML('<h1>Hello, world!</h1>'))"
   ]
  },
  {
   "cell_type": "code",
   "execution_count": 6,
   "id": "8e218430-28b5-41f4-8050-6c43d3ce986a",
   "metadata": {
    "scrolled": true
   },
   "outputs": [
    {
     "name": "stdout",
     "output_type": "stream",
     "text": [
      "Dockerfile\n",
      "NotebookFeatures.ipynb\n",
      "SparkDeveloper.ipynb\n",
      "SparkDeveloper.md\n",
      "img\n",
      "run-jupyter.sh\n"
     ]
    }
   ],
   "source": [
    "%%sh\n",
    "# Executing shell scripts\n",
    "ls"
   ]
  },
  {
   "cell_type": "code",
   "execution_count": 8,
   "id": "414a59dc-23b2-4e73-a908-f1a88738c6eb",
   "metadata": {},
   "outputs": [
    {
     "name": "stdout",
     "output_type": "stream",
     "text": [
      "hi\n"
     ]
    }
   ],
   "source": [
    "%%python\n",
    "# Executing python scripts\n",
    "print('hi')"
   ]
  },
  {
   "cell_type": "markdown",
   "id": "40a156f4-9eda-43ca-8a9f-1cc6f81fadb5",
   "metadata": {},
   "source": [
    "[//]: # (Render markdown)\n",
    "# Rendering markdown"
   ]
  }
 ],
 "metadata": {
  "kernelspec": {
   "display_name": "Python 3 (ipykernel)",
   "language": "python",
   "name": "python3"
  },
  "language_info": {
   "codemirror_mode": {
    "name": "ipython",
    "version": 3
   },
   "file_extension": ".py",
   "mimetype": "text/x-python",
   "name": "python",
   "nbconvert_exporter": "python",
   "pygments_lexer": "ipython3",
   "version": "3.11.4"
  }
 },
 "nbformat": 4,
 "nbformat_minor": 5
}
