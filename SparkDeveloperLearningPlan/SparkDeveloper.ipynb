{
 "cells": [
  {
   "cell_type": "markdown",
   "id": "3cd8fc2d-a589-47a3-a09e-3c0114c6453d",
   "metadata": {},
   "source": [
    "# Spark Developer\n",
    "\n",
    "Spark... \n",
    "- is a unified analytics engine for big data processing\n",
    "- has built-in modules for:\n",
    "    - Streaming\n",
    "    - SQL\n",
    "    - ML\n",
    "    - Graph processing\n",
    "\n",
    "### Spark Execution\n",
    "![Spark execution](img/SparkExecution.PNG)\n",
    "\n",
    "- Each parallelized action is a Job\n",
    "- A Stage is a set of ordered steps that accomplish a Job\n",
    "- Tasks are created by the driver and are assigned a partition of data to process\n",
    "\n",
    "### Spark cluster\n",
    "\n",
    "![Spark cluster](img/SparkCluster.PNG)\n",
    "\n",
    "- Spark parellelizes at two levels:\n",
    "    - Splitting the work among executors\n",
    "    - Splitting the work among cores of an executor\n",
    "\n",
    "#### Driver\n",
    "- Machine in which the application runs\n",
    "- Responsible for:\n",
    "    - Maintaining information about the Spark app\n",
    "    - Responding to the user's program\n",
    "    - Analyzing, distributing and scheduling work across the **executors**\n",
    "\n",
    "#### Worker \n",
    "- Hosts the executor process\n",
    "- Fixed number of executors\n",
    "\n",
    "#### Executors\n",
    "- Holds a chunk of data to be processed, a **partition**\n",
    "- Responsible for:\n",
    "    - Executing code assigned by the driver\n",
    "    - Report state of the computation to the driver"
   ]
  },
  {
   "cell_type": "markdown",
   "id": "ffa558fc-0593-4558-b751-a2d1af5f9566",
   "metadata": {},
   "source": [
    "## Dataframes\n",
    "### Case study\n",
    "You are an analyst exploring clickstream data for an ecommerce retailer. Your datasets include:\n",
    "\n",
    "**Clickstream events**\n",
    "![click stream events dataset](img/clickstream_dataset.PNG)\n",
    "\n",
    "**Users**\n",
    "![users dataset](img/users_dataset.PNG)\n",
    "\n",
    "**Sales**\n",
    "![sales dataset](img/sales_dataset.PNG)\n",
    "\n",
    "**Products**\n",
    "![products dataset](img/products_dataset.PNG)\n",
    "\n"
   ]
  },
  {
   "cell_type": "code",
   "execution_count": 17,
   "id": "317aa467-70cd-46c6-a0cb-f4a5a822aa0f",
   "metadata": {},
   "outputs": [
    {
     "data": {
      "text/html": [
       "<h1>Hello, world!</h1>"
      ],
      "text/plain": [
       "<IPython.core.display.HTML object>"
      ]
     },
     "metadata": {},
     "output_type": "display_data"
    }
   ],
   "source": []
  }
 ],
 "metadata": {
  "kernelspec": {
   "display_name": "Python 3 (ipykernel)",
   "language": "python",
   "name": "python3"
  },
  "language_info": {
   "codemirror_mode": {
    "name": "ipython",
    "version": 3
   },
   "file_extension": ".py",
   "mimetype": "text/x-python",
   "name": "python",
   "nbconvert_exporter": "python",
   "pygments_lexer": "ipython3",
   "version": "3.11.4"
  }
 },
 "nbformat": 4,
 "nbformat_minor": 5
}
